{
 "cells": [
  {
   "cell_type": "code",
   "execution_count": 1,
   "id": "897715b6-37a9-4e0f-894c-49be0d862ce0",
   "metadata": {},
   "outputs": [],
   "source": [
    "import pandas as pd"
   ]
  },
  {
   "cell_type": "code",
   "execution_count": 2,
   "id": "45d18e4e-808e-4765-b00d-cf070f739204",
   "metadata": {},
   "outputs": [],
   "source": [
    "df = pd.read_csv(\"GDP.csv\", sep= \",\" )"
   ]
  },
  {
   "cell_type": "code",
   "execution_count": 33,
   "id": "2e547909-d29c-4121-a2d4-74d892f01da0",
   "metadata": {},
   "outputs": [
    {
     "data": {
      "text/plain": [
       "Index(['Country', 'Region', 'Year', ' GDP_pp '], dtype='object')"
      ]
     },
     "execution_count": 33,
     "metadata": {},
     "output_type": "execute_result"
    }
   ],
   "source": [
    "df.columns"
   ]
  },
  {
   "cell_type": "code",
   "execution_count": 3,
   "id": "4883f78d-4509-464b-91bb-4d72c7a0c678",
   "metadata": {},
   "outputs": [],
   "source": [
    "df.columns = [\"País\", \"Região\", \"Ano\", \"PIB_pp\"]"
   ]
  },
  {
   "cell_type": "code",
   "execution_count": 4,
   "id": "8ab484af-dad5-468f-ae5b-ee9b3e2bbad3",
   "metadata": {},
   "outputs": [
    {
     "data": {
      "text/plain": [
       "Index(['País', 'Região', 'Ano', 'PIB_pp'], dtype='object')"
      ]
     },
     "execution_count": 4,
     "metadata": {},
     "output_type": "execute_result"
    }
   ],
   "source": [
    "df.columns "
   ]
  },
  {
   "cell_type": "code",
   "execution_count": 5,
   "id": "4ede8441-2c10-4303-9d55-da8e26064e52",
   "metadata": {},
   "outputs": [
    {
     "name": "stdout",
     "output_type": "stream",
     "text": [
      "<class 'pandas.core.frame.DataFrame'>\n",
      "RangeIndex: 4419 entries, 0 to 4418\n",
      "Data columns (total 4 columns):\n",
      " #   Column  Non-Null Count  Dtype \n",
      "---  ------  --------------  ----- \n",
      " 0   País    4419 non-null   object\n",
      " 1   Região  4419 non-null   object\n",
      " 2   Ano     4419 non-null   object\n",
      " 3   PIB_pp  4419 non-null   object\n",
      "dtypes: object(4)\n",
      "memory usage: 138.2+ KB\n"
     ]
    }
   ],
   "source": [
    "df.info()"
   ]
  },
  {
   "cell_type": "code",
   "execution_count": 27,
   "id": "312bd53f-4a5f-48f0-9433-32463f608e47",
   "metadata": {
    "jp-MarkdownHeadingCollapsed": true,
    "tags": []
   },
   "outputs": [],
   "source": [
    "df.Ano = pd.to_datetime(df.Ano)"
   ]
  },
  {
   "cell_type": "code",
   "execution_count": 30,
   "id": "e643cd96-d3d6-4d00-b96a-98408834bd87",
   "metadata": {},
   "outputs": [],
   "source": [
    "df.Ano = df.Ano.dt.year"
   ]
  },
  {
   "cell_type": "code",
   "execution_count": 32,
   "id": "f6956ed3-039c-452d-94c6-52c0c7a051ef",
   "metadata": {},
   "outputs": [
    {
     "data": {
      "text/html": [
       "<div>\n",
       "<style scoped>\n",
       "    .dataframe tbody tr th:only-of-type {\n",
       "        vertical-align: middle;\n",
       "    }\n",
       "\n",
       "    .dataframe tbody tr th {\n",
       "        vertical-align: top;\n",
       "    }\n",
       "\n",
       "    .dataframe thead th {\n",
       "        text-align: right;\n",
       "    }\n",
       "</style>\n",
       "<table border=\"1\" class=\"dataframe\">\n",
       "  <thead>\n",
       "    <tr style=\"text-align: right;\">\n",
       "      <th></th>\n",
       "      <th>País</th>\n",
       "      <th>Região</th>\n",
       "      <th>Ano</th>\n",
       "      <th>PIB_pp</th>\n",
       "    </tr>\n",
       "  </thead>\n",
       "  <tbody>\n",
       "    <tr>\n",
       "      <th>0</th>\n",
       "      <td>Afghanistan</td>\n",
       "      <td>Middle East, North Africa, and Greater Arabia</td>\n",
       "      <td>1901</td>\n",
       "      <td>613.99</td>\n",
       "    </tr>\n",
       "    <tr>\n",
       "      <th>1</th>\n",
       "      <td>Afghanistan</td>\n",
       "      <td>Middle East, North Africa, and Greater Arabia</td>\n",
       "      <td>1906</td>\n",
       "      <td>624.04</td>\n",
       "    </tr>\n",
       "    <tr>\n",
       "      <th>2</th>\n",
       "      <td>Afghanistan</td>\n",
       "      <td>Middle East, North Africa, and Greater Arabia</td>\n",
       "      <td>1911</td>\n",
       "      <td>634.25</td>\n",
       "    </tr>\n",
       "    <tr>\n",
       "      <th>3</th>\n",
       "      <td>Afghanistan</td>\n",
       "      <td>Middle East, North Africa, and Greater Arabia</td>\n",
       "      <td>1916</td>\n",
       "      <td>647.28</td>\n",
       "    </tr>\n",
       "    <tr>\n",
       "      <th>4</th>\n",
       "      <td>Afghanistan</td>\n",
       "      <td>Middle East, North Africa, and Greater Arabia</td>\n",
       "      <td>1921</td>\n",
       "      <td>662.40</td>\n",
       "    </tr>\n",
       "  </tbody>\n",
       "</table>\n",
       "</div>"
      ],
      "text/plain": [
       "          País                                         Região   Ano    PIB_pp\n",
       "0  Afghanistan  Middle East, North Africa, and Greater Arabia  1901   613.99 \n",
       "1  Afghanistan  Middle East, North Africa, and Greater Arabia  1906   624.04 \n",
       "2  Afghanistan  Middle East, North Africa, and Greater Arabia  1911   634.25 \n",
       "3  Afghanistan  Middle East, North Africa, and Greater Arabia  1916   647.28 \n",
       "4  Afghanistan  Middle East, North Africa, and Greater Arabia  1921   662.40 "
      ]
     },
     "execution_count": 32,
     "metadata": {},
     "output_type": "execute_result"
    }
   ],
   "source": [
    "df.head()"
   ]
  },
  {
   "cell_type": "code",
   "execution_count": 34,
   "id": "abd92825-f75b-4724-983b-481ba97f4072",
   "metadata": {},
   "outputs": [
    {
     "ename": "ValueError",
     "evalue": "Unable to parse string \" 1,030.89 \" at position 17",
     "output_type": "error",
     "traceback": [
      "\u001b[1;31m---------------------------------------------------------------------------\u001b[0m",
      "\u001b[1;31mValueError\u001b[0m                                Traceback (most recent call last)",
      "\u001b[1;32m~\\anaconda3\\lib\\site-packages\\pandas\\_libs\\lib.pyx\u001b[0m in \u001b[0;36mpandas._libs.lib.maybe_convert_numeric\u001b[1;34m()\u001b[0m\n",
      "\u001b[1;31mValueError\u001b[0m: Unable to parse string \" 1,030.89 \"",
      "\nDuring handling of the above exception, another exception occurred:\n",
      "\u001b[1;31mValueError\u001b[0m                                Traceback (most recent call last)",
      "\u001b[1;32m~\\AppData\\Local\\Temp\\ipykernel_8916\\4054940370.py\u001b[0m in \u001b[0;36m<module>\u001b[1;34m\u001b[0m\n\u001b[1;32m----> 1\u001b[1;33m \u001b[0mdf\u001b[0m\u001b[1;33m.\u001b[0m\u001b[0mPIB_pp\u001b[0m \u001b[1;33m=\u001b[0m \u001b[0mpd\u001b[0m\u001b[1;33m.\u001b[0m\u001b[0mto_numeric\u001b[0m\u001b[1;33m(\u001b[0m\u001b[0mdf\u001b[0m\u001b[1;33m.\u001b[0m\u001b[0mPIB_pp\u001b[0m\u001b[1;33m)\u001b[0m\u001b[1;33m\u001b[0m\u001b[1;33m\u001b[0m\u001b[0m\n\u001b[0m",
      "\u001b[1;32m~\\anaconda3\\lib\\site-packages\\pandas\\core\\tools\\numeric.py\u001b[0m in \u001b[0;36mto_numeric\u001b[1;34m(arg, errors, downcast)\u001b[0m\n\u001b[0;32m    182\u001b[0m         \u001b[0mcoerce_numeric\u001b[0m \u001b[1;33m=\u001b[0m \u001b[0merrors\u001b[0m \u001b[1;32mnot\u001b[0m \u001b[1;32min\u001b[0m \u001b[1;33m(\u001b[0m\u001b[1;34m\"ignore\"\u001b[0m\u001b[1;33m,\u001b[0m \u001b[1;34m\"raise\"\u001b[0m\u001b[1;33m)\u001b[0m\u001b[1;33m\u001b[0m\u001b[1;33m\u001b[0m\u001b[0m\n\u001b[0;32m    183\u001b[0m         \u001b[1;32mtry\u001b[0m\u001b[1;33m:\u001b[0m\u001b[1;33m\u001b[0m\u001b[1;33m\u001b[0m\u001b[0m\n\u001b[1;32m--> 184\u001b[1;33m             values, _ = lib.maybe_convert_numeric(\n\u001b[0m\u001b[0;32m    185\u001b[0m                 \u001b[0mvalues\u001b[0m\u001b[1;33m,\u001b[0m \u001b[0mset\u001b[0m\u001b[1;33m(\u001b[0m\u001b[1;33m)\u001b[0m\u001b[1;33m,\u001b[0m \u001b[0mcoerce_numeric\u001b[0m\u001b[1;33m=\u001b[0m\u001b[0mcoerce_numeric\u001b[0m\u001b[1;33m\u001b[0m\u001b[1;33m\u001b[0m\u001b[0m\n\u001b[0;32m    186\u001b[0m             )\n",
      "\u001b[1;32m~\\anaconda3\\lib\\site-packages\\pandas\\_libs\\lib.pyx\u001b[0m in \u001b[0;36mpandas._libs.lib.maybe_convert_numeric\u001b[1;34m()\u001b[0m\n",
      "\u001b[1;31mValueError\u001b[0m: Unable to parse string \" 1,030.89 \" at position 17"
     ]
    }
   ],
   "source": [
    "df.PIB_pp = pd.to_numeric(df.PIB_pp)"
   ]
  },
  {
   "cell_type": "code",
   "execution_count": 35,
   "id": "dde2bfee-e247-47a6-bfa7-af3e410df340",
   "metadata": {},
   "outputs": [],
   "source": [
    "df.PIB_pp =  df.PIB_pp.str.replace(\",\", \"\")"
   ]
  },
  {
   "cell_type": "code",
   "execution_count": 37,
   "id": "2bf53b8b-b77b-4077-bfe2-6f9c9c42628b",
   "metadata": {},
   "outputs": [],
   "source": [
    "df.PIB_pp = pd.to_numeric(df.PIB_pp)"
   ]
  },
  {
   "cell_type": "markdown",
   "id": "79128380-1fdc-4aa0-a8d3-3e52f49f4455",
   "metadata": {},
   "source": [
    "for i in df.GDP_pp:\n",
    "    print(i)"
   ]
  },
  {
   "cell_type": "code",
   "execution_count": 41,
   "id": "f0cd74bb-e2ec-425d-a142-835d1c2efd02",
   "metadata": {},
   "outputs": [
    {
     "data": {
      "text/plain": [
       "0"
      ]
     },
     "execution_count": 41,
     "metadata": {},
     "output_type": "execute_result"
    }
   ],
   "source": [
    "df.PIB_pp.isnull().sum()"
   ]
  },
  {
   "cell_type": "code",
   "execution_count": 42,
   "id": "fa9b205f-ac3c-45fc-95f4-b9b030b803bc",
   "metadata": {},
   "outputs": [
    {
     "data": {
      "text/plain": [
       "0"
      ]
     },
     "execution_count": 42,
     "metadata": {},
     "output_type": "execute_result"
    }
   ],
   "source": [
    "df.duplicated().sum()"
   ]
  },
  {
   "cell_type": "code",
   "execution_count": 43,
   "id": "3ccaa935-f546-4689-9527-6fd51325302f",
   "metadata": {},
   "outputs": [
    {
     "data": {
      "text/plain": [
       "País      0\n",
       "Região    0\n",
       "Ano       0\n",
       "PIB_pp    0\n",
       "dtype: int64"
      ]
     },
     "execution_count": 43,
     "metadata": {},
     "output_type": "execute_result"
    }
   ],
   "source": [
    "df.isnull().sum()"
   ]
  },
  {
   "cell_type": "markdown",
   "id": "10cf8b60-56c5-4d9a-83dc-6bc06b55787b",
   "metadata": {},
   "source": [
    "## Questões:"
   ]
  },
  {
   "cell_type": "markdown",
   "id": "83c04290-0688-428d-92c2-9ca1074da514",
   "metadata": {},
   "source": [
    " #### -  Informe o primeiro valor registrado do PIB per capita de cada país:"
   ]
  },
  {
   "cell_type": "code",
   "execution_count": 52,
   "id": "0b539614-df90-47f0-82da-f4481be59420",
   "metadata": {},
   "outputs": [
    {
     "data": {
      "text/html": [
       "<div>\n",
       "<style scoped>\n",
       "    .dataframe tbody tr th:only-of-type {\n",
       "        vertical-align: middle;\n",
       "    }\n",
       "\n",
       "    .dataframe tbody tr th {\n",
       "        vertical-align: top;\n",
       "    }\n",
       "\n",
       "    .dataframe thead th {\n",
       "        text-align: right;\n",
       "    }\n",
       "</style>\n",
       "<table border=\"1\" class=\"dataframe\">\n",
       "  <thead>\n",
       "    <tr style=\"text-align: right;\">\n",
       "      <th></th>\n",
       "      <th>PIB_pp</th>\n",
       "    </tr>\n",
       "    <tr>\n",
       "      <th>País</th>\n",
       "      <th></th>\n",
       "    </tr>\n",
       "  </thead>\n",
       "  <tbody>\n",
       "    <tr>\n",
       "      <th>Afghanistan</th>\n",
       "      <td>595.04</td>\n",
       "    </tr>\n",
       "    <tr>\n",
       "      <th>Albania</th>\n",
       "      <td>1062.01</td>\n",
       "    </tr>\n",
       "    <tr>\n",
       "      <th>Algeria</th>\n",
       "      <td>1807.76</td>\n",
       "    </tr>\n",
       "    <tr>\n",
       "      <th>Andorra</th>\n",
       "      <td>3352.50</td>\n",
       "    </tr>\n",
       "    <tr>\n",
       "      <th>Angola</th>\n",
       "      <td>525.76</td>\n",
       "    </tr>\n",
       "    <tr>\n",
       "      <th>...</th>\n",
       "      <td>...</td>\n",
       "    </tr>\n",
       "    <tr>\n",
       "      <th>Venezuela</th>\n",
       "      <td>766.21</td>\n",
       "    </tr>\n",
       "    <tr>\n",
       "      <th>Vietnam</th>\n",
       "      <td>572.96</td>\n",
       "    </tr>\n",
       "    <tr>\n",
       "      <th>Yemen, Rep.</th>\n",
       "      <td>729.39</td>\n",
       "    </tr>\n",
       "    <tr>\n",
       "      <th>Zambia</th>\n",
       "      <td>532.38</td>\n",
       "    </tr>\n",
       "    <tr>\n",
       "      <th>Zimbabwe</th>\n",
       "      <td>385.69</td>\n",
       "    </tr>\n",
       "  </tbody>\n",
       "</table>\n",
       "<p>193 rows × 1 columns</p>\n",
       "</div>"
      ],
      "text/plain": [
       "              PIB_pp\n",
       "País                \n",
       "Afghanistan   595.04\n",
       "Albania      1062.01\n",
       "Algeria      1807.76\n",
       "Andorra      3352.50\n",
       "Angola        525.76\n",
       "...              ...\n",
       "Venezuela     766.21\n",
       "Vietnam       572.96\n",
       "Yemen, Rep.   729.39\n",
       "Zambia        532.38\n",
       "Zimbabwe      385.69\n",
       "\n",
       "[193 rows x 1 columns]"
      ]
     },
     "execution_count": 52,
     "metadata": {},
     "output_type": "execute_result"
    }
   ],
   "source": [
    "df.groupby(\"País\")[['PIB_pp']].min()"
   ]
  },
  {
   "cell_type": "markdown",
   "id": "40ab0375-ad71-40ef-8cfc-c48b2dfc6490",
   "metadata": {},
   "source": [
    "#### - Todos os registros dos paises começam em 1901 ? "
   ]
  },
  {
   "cell_type": "code",
   "execution_count": 119,
   "id": "0bb66a9a-1a39-4582-b857-a022eb612ff5",
   "metadata": {},
   "outputs": [
    {
     "data": {
      "text/plain": [
       "Ano    1991\n",
       "dtype: int64"
      ]
     },
     "execution_count": 119,
     "metadata": {},
     "output_type": "execute_result"
    }
   ],
   "source": [
    "df.groupby(\"País\")[['Ano']].min().max()"
   ]
  },
  {
   "cell_type": "code",
   "execution_count": 121,
   "id": "c5e88c16-c419-48e4-8606-ff867fc7e0c1",
   "metadata": {},
   "outputs": [],
   "source": [
    "primeiro_ano = df.groupby(\"País\")[['Ano']].min()"
   ]
  },
  {
   "cell_type": "code",
   "execution_count": 125,
   "id": "0d287655-2a08-4113-bce8-14abb98d3cf9",
   "metadata": {},
   "outputs": [],
   "source": [
    "Series = df.groupby(\"País\")['Ano'].min()"
   ]
  },
  {
   "cell_type": "code",
   "execution_count": 127,
   "id": "ce6aa858-ad3a-460a-9fcd-96ce89de32b0",
   "metadata": {},
   "outputs": [
    {
     "data": {
      "text/html": [
       "<div>\n",
       "<style scoped>\n",
       "    .dataframe tbody tr th:only-of-type {\n",
       "        vertical-align: middle;\n",
       "    }\n",
       "\n",
       "    .dataframe tbody tr th {\n",
       "        vertical-align: top;\n",
       "    }\n",
       "\n",
       "    .dataframe thead th {\n",
       "        text-align: right;\n",
       "    }\n",
       "</style>\n",
       "<table border=\"1\" class=\"dataframe\">\n",
       "  <thead>\n",
       "    <tr style=\"text-align: right;\">\n",
       "      <th></th>\n",
       "      <th>Ano</th>\n",
       "    </tr>\n",
       "    <tr>\n",
       "      <th>País</th>\n",
       "      <th></th>\n",
       "    </tr>\n",
       "  </thead>\n",
       "  <tbody>\n",
       "    <tr>\n",
       "      <th>Kosovo</th>\n",
       "      <td>1991</td>\n",
       "    </tr>\n",
       "  </tbody>\n",
       "</table>\n",
       "</div>"
      ],
      "text/plain": [
       "         Ano\n",
       "País        \n",
       "Kosovo  1991"
      ]
     },
     "execution_count": 127,
     "metadata": {},
     "output_type": "execute_result"
    }
   ],
   "source": [
    "primeiro_ano[Series.isin([1991])]"
   ]
  },
  {
   "cell_type": "code",
   "execution_count": 167,
   "id": "690c803c-bb12-4fbb-9334-1c5db7b9c7af",
   "metadata": {},
   "outputs": [],
   "source": [
    "#df.groupby('Região')[['PIB_pp']].mean().sort_values(by ='PIB_pp' , ascending = False )"
   ]
  },
  {
   "cell_type": "code",
   "execution_count": 168,
   "id": "d24ec77e-2753-4360-a70d-3f8e604f4739",
   "metadata": {},
   "outputs": [],
   "source": [
    "#internalo_ano = df.Ano.between(1901, 2000)"
   ]
  },
  {
   "cell_type": "code",
   "execution_count": 169,
   "id": "174afde6-1600-462d-b772-1e7af5d0baf0",
   "metadata": {},
   "outputs": [],
   "source": [
    "#grafico = df[internalo_ano].groupby('Região')[['PIB_pp']].mean().sort_values(by='PIB_pp' , ascending = False)"
   ]
  },
  {
   "cell_type": "markdown",
   "id": "371328e3-b465-4f84-9e73-80385bd20fc9",
   "metadata": {
    "tags": []
   },
   "source": [
    "#### - Quais foram as regiões que tiveram os maiores crescimentos percentuais no PIB per capita durante o século passado?"
   ]
  },
  {
   "cell_type": "code",
   "execution_count": 159,
   "id": "50edee34-cf39-4fb6-9043-b29a47906dee",
   "metadata": {},
   "outputs": [],
   "source": [
    " resultado = (df[df.Ano == 1996].groupby(\"Região\")['PIB_pp'].mean() - df[df.Ano == 1901].groupby(\"Região\")['PIB_pp'].mean()) / df[df.Ano == 1901].groupby(\"Região\")['PIB_pp'].mean()"
   ]
  },
  {
   "cell_type": "code",
   "execution_count": 164,
   "id": "d1b2be14-bb9b-4285-80a7-94ec4667199b",
   "metadata": {},
   "outputs": [
    {
     "data": {
      "text/html": [
       "<div>\n",
       "<style scoped>\n",
       "    .dataframe tbody tr th:only-of-type {\n",
       "        vertical-align: middle;\n",
       "    }\n",
       "\n",
       "    .dataframe tbody tr th {\n",
       "        vertical-align: top;\n",
       "    }\n",
       "\n",
       "    .dataframe thead th {\n",
       "        text-align: right;\n",
       "    }\n",
       "</style>\n",
       "<table border=\"1\" class=\"dataframe\">\n",
       "  <thead>\n",
       "    <tr style=\"text-align: right;\">\n",
       "      <th></th>\n",
       "      <th>PIB_pp</th>\n",
       "    </tr>\n",
       "    <tr>\n",
       "      <th>Região</th>\n",
       "      <th></th>\n",
       "    </tr>\n",
       "  </thead>\n",
       "  <tbody>\n",
       "    <tr>\n",
       "      <th>Middle East, North Africa, and Greater Arabia</th>\n",
       "      <td>857.215950</td>\n",
       "    </tr>\n",
       "    <tr>\n",
       "      <th>Asia</th>\n",
       "      <td>711.761516</td>\n",
       "    </tr>\n",
       "    <tr>\n",
       "      <th>Europe</th>\n",
       "      <td>594.046167</td>\n",
       "    </tr>\n",
       "    <tr>\n",
       "      <th>North America</th>\n",
       "      <td>589.760175</td>\n",
       "    </tr>\n",
       "    <tr>\n",
       "      <th>Central America and the Caribbean</th>\n",
       "      <td>406.426789</td>\n",
       "    </tr>\n",
       "    <tr>\n",
       "      <th>Australia and Oceania</th>\n",
       "      <td>396.075383</td>\n",
       "    </tr>\n",
       "    <tr>\n",
       "      <th>South America</th>\n",
       "      <td>312.123735</td>\n",
       "    </tr>\n",
       "    <tr>\n",
       "      <th>Sub-Saharan Africa</th>\n",
       "      <td>248.633780</td>\n",
       "    </tr>\n",
       "  </tbody>\n",
       "</table>\n",
       "</div>"
      ],
      "text/plain": [
       "                                                   PIB_pp\n",
       "Região                                                   \n",
       "Middle East, North Africa, and Greater Arabia  857.215950\n",
       "Asia                                           711.761516\n",
       "Europe                                         594.046167\n",
       "North America                                  589.760175\n",
       "Central America and the Caribbean              406.426789\n",
       "Australia and Oceania                          396.075383\n",
       "South America                                  312.123735\n",
       "Sub-Saharan Africa                             248.633780"
      ]
     },
     "execution_count": 164,
     "metadata": {},
     "output_type": "execute_result"
    }
   ],
   "source": [
    "resultado.to_frame().sort_values(by = 'PIB_pp' , ascending = False)*100"
   ]
  },
  {
   "cell_type": "code",
   "execution_count": null,
   "id": "943af7f7-17ab-41f8-b628-07059c2585a5",
   "metadata": {},
   "outputs": [],
   "source": []
  },
  {
   "cell_type": "code",
   "execution_count": null,
   "id": "bf71ad73-d874-476a-a1fa-1095c16e0a7a",
   "metadata": {},
   "outputs": [],
   "source": []
  }
 ],
 "metadata": {
  "kernelspec": {
   "display_name": "Python 3 (ipykernel)",
   "language": "python",
   "name": "python3"
  },
  "language_info": {
   "codemirror_mode": {
    "name": "ipython",
    "version": 3
   },
   "file_extension": ".py",
   "mimetype": "text/x-python",
   "name": "python",
   "nbconvert_exporter": "python",
   "pygments_lexer": "ipython3",
   "version": "3.9.13"
  }
 },
 "nbformat": 4,
 "nbformat_minor": 5
}
