{
 "cells": [
  {
   "cell_type": "code",
   "execution_count": 1,
   "id": "49d70ab6-36b4-42c4-8632-0ba021c63f6a",
   "metadata": {},
   "outputs": [],
   "source": [
    "import pandas as pd\n",
    "import numpy as np"
   ]
  },
  {
   "cell_type": "markdown",
   "id": "3407d74d-bb81-4e09-820c-b64d4b9335aa",
   "metadata": {},
   "source": [
    "### data cleaning:"
   ]
  },
  {
   "cell_type": "code",
   "execution_count": 2,
   "id": "99738554-6fe2-435f-ad10-ff0749c8538d",
   "metadata": {},
   "outputs": [],
   "source": [
    "df_obesity = pd.read_csv(\"obesity.csv\" , sep=\",\")"
   ]
  },
  {
   "cell_type": "code",
   "execution_count": 3,
   "id": "3210e2f6-c3f9-4eb3-a9da-1d86b4829579",
   "metadata": {},
   "outputs": [
    {
     "data": {
      "text/plain": [
       "Index(['Unnamed: 0', 'Country', 'Year', 'Obesity (%)', 'Sex'], dtype='object')"
      ]
     },
     "execution_count": 3,
     "metadata": {},
     "output_type": "execute_result"
    }
   ],
   "source": [
    "df_obesity.columns "
   ]
  },
  {
   "cell_type": "code",
   "execution_count": 4,
   "id": "aa63aaf0-e66a-402f-9f0e-40e94c9b3c2a",
   "metadata": {},
   "outputs": [],
   "source": [
    "del df_obesity['Unnamed: 0']"
   ]
  },
  {
   "cell_type": "code",
   "execution_count": 5,
   "id": "d1867ba9-3055-456e-8230-db7663d9ed13",
   "metadata": {},
   "outputs": [
    {
     "data": {
      "text/plain": [
       "Index(['Country', 'Year', 'Obesity (%)', 'Sex'], dtype='object')"
      ]
     },
     "execution_count": 5,
     "metadata": {},
     "output_type": "execute_result"
    }
   ],
   "source": [
    "df_obesity.columns"
   ]
  },
  {
   "cell_type": "code",
   "execution_count": 6,
   "id": "c5d66c30-267d-404a-a05d-38d759d4a76a",
   "metadata": {},
   "outputs": [],
   "source": [
    "df_obesity.columns = ['País', 'Ano', 'Obesidade(%)', 'Sexo']"
   ]
  },
  {
   "cell_type": "code",
   "execution_count": 7,
   "id": "ca5b3963-b885-4da5-afcd-0c7acbc90480",
   "metadata": {},
   "outputs": [
    {
     "data": {
      "text/plain": [
       "Index(['País', 'Ano', 'Obesidade(%)', 'Sexo'], dtype='object')"
      ]
     },
     "execution_count": 7,
     "metadata": {},
     "output_type": "execute_result"
    }
   ],
   "source": [
    "df_obesity.columns\n"
   ]
  },
  {
   "cell_type": "code",
   "execution_count": 8,
   "id": "cc56d576-4e33-4d69-ae72-c3b0b9c465d2",
   "metadata": {},
   "outputs": [
    {
     "data": {
      "text/plain": [
       "Ano    0\n",
       "dtype: int64"
      ]
     },
     "execution_count": 8,
     "metadata": {},
     "output_type": "execute_result"
    }
   ],
   "source": [
    "df_obesity.select_dtypes(include = 'int').isnull().sum()"
   ]
  },
  {
   "cell_type": "code",
   "execution_count": 9,
   "id": "5177d7fa-a522-4a96-8121-502274b36e1b",
   "metadata": {},
   "outputs": [
    {
     "data": {
      "text/html": [
       "<div>\n",
       "<style scoped>\n",
       "    .dataframe tbody tr th:only-of-type {\n",
       "        vertical-align: middle;\n",
       "    }\n",
       "\n",
       "    .dataframe tbody tr th {\n",
       "        vertical-align: top;\n",
       "    }\n",
       "\n",
       "    .dataframe thead th {\n",
       "        text-align: right;\n",
       "    }\n",
       "</style>\n",
       "<table border=\"1\" class=\"dataframe\">\n",
       "  <thead>\n",
       "    <tr style=\"text-align: right;\">\n",
       "      <th></th>\n",
       "      <th>País</th>\n",
       "      <th>Ano</th>\n",
       "      <th>Obesidade(%)</th>\n",
       "      <th>Sexo</th>\n",
       "    </tr>\n",
       "  </thead>\n",
       "  <tbody>\n",
       "    <tr>\n",
       "      <th>0</th>\n",
       "      <td>Afghanistan</td>\n",
       "      <td>1975</td>\n",
       "      <td>0.5 [0.2-1.1]</td>\n",
       "      <td>Both sexes</td>\n",
       "    </tr>\n",
       "    <tr>\n",
       "      <th>1</th>\n",
       "      <td>Afghanistan</td>\n",
       "      <td>1975</td>\n",
       "      <td>0.2 [0.0-0.6]</td>\n",
       "      <td>Male</td>\n",
       "    </tr>\n",
       "    <tr>\n",
       "      <th>2</th>\n",
       "      <td>Afghanistan</td>\n",
       "      <td>1975</td>\n",
       "      <td>0.8 [0.2-2.0]</td>\n",
       "      <td>Female</td>\n",
       "    </tr>\n",
       "    <tr>\n",
       "      <th>3</th>\n",
       "      <td>Afghanistan</td>\n",
       "      <td>1976</td>\n",
       "      <td>0.5 [0.2-1.1]</td>\n",
       "      <td>Both sexes</td>\n",
       "    </tr>\n",
       "    <tr>\n",
       "      <th>4</th>\n",
       "      <td>Afghanistan</td>\n",
       "      <td>1976</td>\n",
       "      <td>0.2 [0.0-0.7]</td>\n",
       "      <td>Male</td>\n",
       "    </tr>\n",
       "  </tbody>\n",
       "</table>\n",
       "</div>"
      ],
      "text/plain": [
       "          País   Ano   Obesidade(%)        Sexo\n",
       "0  Afghanistan  1975  0.5 [0.2-1.1]  Both sexes\n",
       "1  Afghanistan  1975  0.2 [0.0-0.6]        Male\n",
       "2  Afghanistan  1975  0.8 [0.2-2.0]      Female\n",
       "3  Afghanistan  1976  0.5 [0.2-1.1]  Both sexes\n",
       "4  Afghanistan  1976  0.2 [0.0-0.7]        Male"
      ]
     },
     "execution_count": 9,
     "metadata": {},
     "output_type": "execute_result"
    }
   ],
   "source": [
    "df_obesity.head()"
   ]
  },
  {
   "cell_type": "code",
   "execution_count": 10,
   "id": "d1d1884d-41b5-47fe-9a6e-265d9b48d294",
   "metadata": {},
   "outputs": [
    {
     "data": {
      "text/plain": [
       "0           0.5 [0.2-1.1]\n",
       "1           0.2 [0.0-0.6]\n",
       "2           0.8 [0.2-2.0]\n",
       "3           0.5 [0.2-1.1]\n",
       "4           0.2 [0.0-0.7]\n",
       "               ...       \n",
       "24565       4.5 [2.4-7.6]\n",
       "24566    24.8 [18.9-31.3]\n",
       "24567    15.5 [12.0-19.2]\n",
       "24568       4.7 [2.5-8.0]\n",
       "24569    25.3 [19.1-32.0]\n",
       "Name: Obesidade(%), Length: 24570, dtype: object"
      ]
     },
     "execution_count": 10,
     "metadata": {},
     "output_type": "execute_result"
    }
   ],
   "source": [
    "df_obesity['Obesidade(%)']"
   ]
  },
  {
   "cell_type": "code",
   "execution_count": 11,
   "id": "2d3b00d1-8456-47e0-af5f-1e63cdc12d48",
   "metadata": {},
   "outputs": [],
   "source": [
    "df_obesity['Obesidade(%)'] = df_obesity['Obesidade(%)'].apply( lambda x: x.split()[0])"
   ]
  },
  {
   "cell_type": "code",
   "execution_count": 12,
   "id": "d1c787eb-324f-4522-b16a-c73705a01b59",
   "metadata": {},
   "outputs": [
    {
     "data": {
      "text/html": [
       "<div>\n",
       "<style scoped>\n",
       "    .dataframe tbody tr th:only-of-type {\n",
       "        vertical-align: middle;\n",
       "    }\n",
       "\n",
       "    .dataframe tbody tr th {\n",
       "        vertical-align: top;\n",
       "    }\n",
       "\n",
       "    .dataframe thead th {\n",
       "        text-align: right;\n",
       "    }\n",
       "</style>\n",
       "<table border=\"1\" class=\"dataframe\">\n",
       "  <thead>\n",
       "    <tr style=\"text-align: right;\">\n",
       "      <th></th>\n",
       "      <th>País</th>\n",
       "      <th>Ano</th>\n",
       "      <th>Obesidade(%)</th>\n",
       "      <th>Sexo</th>\n",
       "    </tr>\n",
       "  </thead>\n",
       "  <tbody>\n",
       "    <tr>\n",
       "      <th>0</th>\n",
       "      <td>Afghanistan</td>\n",
       "      <td>1975</td>\n",
       "      <td>0.5</td>\n",
       "      <td>Both sexes</td>\n",
       "    </tr>\n",
       "    <tr>\n",
       "      <th>1</th>\n",
       "      <td>Afghanistan</td>\n",
       "      <td>1975</td>\n",
       "      <td>0.2</td>\n",
       "      <td>Male</td>\n",
       "    </tr>\n",
       "    <tr>\n",
       "      <th>2</th>\n",
       "      <td>Afghanistan</td>\n",
       "      <td>1975</td>\n",
       "      <td>0.8</td>\n",
       "      <td>Female</td>\n",
       "    </tr>\n",
       "    <tr>\n",
       "      <th>3</th>\n",
       "      <td>Afghanistan</td>\n",
       "      <td>1976</td>\n",
       "      <td>0.5</td>\n",
       "      <td>Both sexes</td>\n",
       "    </tr>\n",
       "    <tr>\n",
       "      <th>4</th>\n",
       "      <td>Afghanistan</td>\n",
       "      <td>1976</td>\n",
       "      <td>0.2</td>\n",
       "      <td>Male</td>\n",
       "    </tr>\n",
       "  </tbody>\n",
       "</table>\n",
       "</div>"
      ],
      "text/plain": [
       "          País   Ano Obesidade(%)        Sexo\n",
       "0  Afghanistan  1975          0.5  Both sexes\n",
       "1  Afghanistan  1975          0.2        Male\n",
       "2  Afghanistan  1975          0.8      Female\n",
       "3  Afghanistan  1976          0.5  Both sexes\n",
       "4  Afghanistan  1976          0.2        Male"
      ]
     },
     "execution_count": 12,
     "metadata": {},
     "output_type": "execute_result"
    }
   ],
   "source": [
    "df_obesity.head()"
   ]
  },
  {
   "cell_type": "code",
   "execution_count": 13,
   "id": "aad24343-2eca-4026-ba13-b832af7553dc",
   "metadata": {},
   "outputs": [
    {
     "name": "stdout",
     "output_type": "stream",
     "text": [
      "<class 'pandas.core.frame.DataFrame'>\n",
      "RangeIndex: 24570 entries, 0 to 24569\n",
      "Data columns (total 4 columns):\n",
      " #   Column        Non-Null Count  Dtype \n",
      "---  ------        --------------  ----- \n",
      " 0   País          24570 non-null  object\n",
      " 1   Ano           24570 non-null  int64 \n",
      " 2   Obesidade(%)  24570 non-null  object\n",
      " 3   Sexo          24570 non-null  object\n",
      "dtypes: int64(1), object(3)\n",
      "memory usage: 767.9+ KB\n"
     ]
    }
   ],
   "source": [
    "df_obesity.info()"
   ]
  },
  {
   "cell_type": "code",
   "execution_count": 14,
   "id": "9f646f7d-0c1c-42b0-9b73-272fad885c91",
   "metadata": {},
   "outputs": [],
   "source": [
    "#df_obesity['Obesidade(%)'] = pd.to_numeric(df_obesity['Obesidade(%)'])"
   ]
  },
  {
   "cell_type": "code",
   "execution_count": 15,
   "id": "207d11ba-96e3-4316-815f-86e5ff713132",
   "metadata": {},
   "outputs": [],
   "source": [
    "#filtro =df_obesity['Obesidade(%)'].str.contains(\"No\")\n",
    "#df_obesity[filtro]"
   ]
  },
  {
   "cell_type": "code",
   "execution_count": 16,
   "id": "4baa3825-73f5-4376-b6e8-8cd2427765d4",
   "metadata": {},
   "outputs": [],
   "source": [
    "df_obesity['Obesidade(%)'] = df_obesity['Obesidade(%)'].replace(\"No\", np.nan)"
   ]
  },
  {
   "cell_type": "code",
   "execution_count": 17,
   "id": "f4ce625e-a759-4555-bbb8-ef9e026cf14e",
   "metadata": {},
   "outputs": [],
   "source": [
    "df_obesity['Obesidade(%)'] = pd.to_numeric(df_obesity['Obesidade(%)'])"
   ]
  },
  {
   "cell_type": "code",
   "execution_count": 18,
   "id": "811a7a6e-e372-47bd-bf61-dd8ef6740c1f",
   "metadata": {},
   "outputs": [
    {
     "data": {
      "text/plain": [
       "504"
      ]
     },
     "execution_count": 18,
     "metadata": {},
     "output_type": "execute_result"
    }
   ],
   "source": [
    "df_obesity['Obesidade(%)'].isnull().sum()"
   ]
  },
  {
   "cell_type": "code",
   "execution_count": 19,
   "id": "671fdee7-e1ff-489c-805b-300d50f392ba",
   "metadata": {},
   "outputs": [
    {
     "name": "stdout",
     "output_type": "stream",
     "text": [
      "<class 'pandas.core.frame.DataFrame'>\n",
      "RangeIndex: 24570 entries, 0 to 24569\n",
      "Data columns (total 4 columns):\n",
      " #   Column        Non-Null Count  Dtype  \n",
      "---  ------        --------------  -----  \n",
      " 0   País          24570 non-null  object \n",
      " 1   Ano           24570 non-null  int64  \n",
      " 2   Obesidade(%)  24066 non-null  float64\n",
      " 3   Sexo          24570 non-null  object \n",
      "dtypes: float64(1), int64(1), object(2)\n",
      "memory usage: 767.9+ KB\n"
     ]
    }
   ],
   "source": [
    "df_obesity.info()"
   ]
  },
  {
   "cell_type": "markdown",
   "id": "9f611787-15f9-4a7f-a576-1c96cad7ba19",
   "metadata": {},
   "source": [
    "### - Questões: "
   ]
  },
  {
   "cell_type": "markdown",
   "id": "b8ad9ae4-9a56-4389-8868-a7289ee065ae",
   "metadata": {},
   "source": [
    " 1. Quais são os cinco países com as maiores e menores taxas nos índices de obesidade durante o período observado?"
   ]
  },
  {
   "cell_type": "code",
   "execution_count": 20,
   "id": "b4965e3b-da50-4964-b050-360ba1caa7b1",
   "metadata": {},
   "outputs": [
    {
     "data": {
      "text/html": [
       "<div>\n",
       "<style scoped>\n",
       "    .dataframe tbody tr th:only-of-type {\n",
       "        vertical-align: middle;\n",
       "    }\n",
       "\n",
       "    .dataframe tbody tr th {\n",
       "        vertical-align: top;\n",
       "    }\n",
       "\n",
       "    .dataframe thead th {\n",
       "        text-align: right;\n",
       "    }\n",
       "</style>\n",
       "<table border=\"1\" class=\"dataframe\">\n",
       "  <thead>\n",
       "    <tr style=\"text-align: right;\">\n",
       "      <th></th>\n",
       "      <th>Obesidade(%)</th>\n",
       "    </tr>\n",
       "    <tr>\n",
       "      <th>País</th>\n",
       "      <th></th>\n",
       "    </tr>\n",
       "  </thead>\n",
       "  <tbody>\n",
       "    <tr>\n",
       "      <th>Nauru</th>\n",
       "      <td>53.042857</td>\n",
       "    </tr>\n",
       "    <tr>\n",
       "      <th>Palau</th>\n",
       "      <td>42.080952</td>\n",
       "    </tr>\n",
       "    <tr>\n",
       "      <th>Cook Islands</th>\n",
       "      <td>41.816667</td>\n",
       "    </tr>\n",
       "    <tr>\n",
       "      <th>Marshall Islands</th>\n",
       "      <td>40.454762</td>\n",
       "    </tr>\n",
       "    <tr>\n",
       "      <th>Tuvalu</th>\n",
       "      <td>35.080952</td>\n",
       "    </tr>\n",
       "  </tbody>\n",
       "</table>\n",
       "</div>"
      ],
      "text/plain": [
       "                  Obesidade(%)\n",
       "País                          \n",
       "Nauru                53.042857\n",
       "Palau                42.080952\n",
       "Cook Islands         41.816667\n",
       "Marshall Islands     40.454762\n",
       "Tuvalu               35.080952"
      ]
     },
     "execution_count": 20,
     "metadata": {},
     "output_type": "execute_result"
    }
   ],
   "source": [
    "df_obesity[df_obesity.Sexo =='Both sexes'].groupby(['País'])[['Obesidade(%)']].mean().sort_values(by='Obesidade(%)', ascending = False)[:5] "
   ]
  },
  {
   "cell_type": "code",
   "execution_count": 21,
   "id": "9d36bc79-7a00-4cd0-a7a8-c5f1297aac7f",
   "metadata": {},
   "outputs": [
    {
     "data": {
      "text/html": [
       "<div>\n",
       "<style scoped>\n",
       "    .dataframe tbody tr th:only-of-type {\n",
       "        vertical-align: middle;\n",
       "    }\n",
       "\n",
       "    .dataframe tbody tr th {\n",
       "        vertical-align: top;\n",
       "    }\n",
       "\n",
       "    .dataframe thead th {\n",
       "        text-align: right;\n",
       "    }\n",
       "</style>\n",
       "<table border=\"1\" class=\"dataframe\">\n",
       "  <thead>\n",
       "    <tr style=\"text-align: right;\">\n",
       "      <th></th>\n",
       "      <th>Obesidade(%)</th>\n",
       "    </tr>\n",
       "    <tr>\n",
       "      <th>País</th>\n",
       "      <th></th>\n",
       "    </tr>\n",
       "  </thead>\n",
       "  <tbody>\n",
       "    <tr>\n",
       "      <th>Viet Nam</th>\n",
       "      <td>0.690476</td>\n",
       "    </tr>\n",
       "    <tr>\n",
       "      <th>Bangladesh</th>\n",
       "      <td>1.290476</td>\n",
       "    </tr>\n",
       "    <tr>\n",
       "      <th>Timor-Leste</th>\n",
       "      <td>1.347619</td>\n",
       "    </tr>\n",
       "    <tr>\n",
       "      <th>Cambodia</th>\n",
       "      <td>1.433333</td>\n",
       "    </tr>\n",
       "    <tr>\n",
       "      <th>Nepal</th>\n",
       "      <td>1.526190</td>\n",
       "    </tr>\n",
       "  </tbody>\n",
       "</table>\n",
       "</div>"
      ],
      "text/plain": [
       "             Obesidade(%)\n",
       "País                     \n",
       "Viet Nam         0.690476\n",
       "Bangladesh       1.290476\n",
       "Timor-Leste      1.347619\n",
       "Cambodia         1.433333\n",
       "Nepal            1.526190"
      ]
     },
     "execution_count": 21,
     "metadata": {},
     "output_type": "execute_result"
    }
   ],
   "source": [
    "df_obesity[df_obesity.Sexo =='Both sexes'].groupby(['País'])[['Obesidade(%)']].mean().sort_values(by='Obesidade(%)', ascending = True)[:5] "
   ]
  },
  {
   "cell_type": "markdown",
   "id": "2a7e6437-eb10-4a10-8db1-68cac4b01e3f",
   "metadata": {},
   "source": [
    "2. Qual era a média percentual de obesidade por sexo no mundo em 2015?\n"
   ]
  },
  {
   "cell_type": "code",
   "execution_count": 22,
   "id": "7e4ae4a5-91d6-4a3e-8f3d-0b1bd3a499c2",
   "metadata": {},
   "outputs": [
    {
     "data": {
      "text/plain": [
       "15.980628272251304"
      ]
     },
     "execution_count": 22,
     "metadata": {},
     "output_type": "execute_result"
    }
   ],
   "source": [
    "df_obesity[((df_obesity.Ano == 2015) & (df_obesity.Sexo == 'Male')) ]['Obesidade(%)'].mean()"
   ]
  },
  {
   "cell_type": "code",
   "execution_count": 23,
   "id": "39651f29-2e67-4379-a2d9-c63c74696207",
   "metadata": {},
   "outputs": [
    {
     "data": {
      "text/plain": [
       "22.899476439790575"
      ]
     },
     "execution_count": 23,
     "metadata": {},
     "output_type": "execute_result"
    }
   ],
   "source": [
    "df_obesity[((df_obesity.Ano == 2015) & (df_obesity.Sexo == 'Female')) ]['Obesidade(%)'].mean()"
   ]
  },
  {
   "cell_type": "markdown",
   "id": "7fa20921-2ce7-4f40-82f7-7688d7e28300",
   "metadata": {},
   "source": [
    "3. Quais são os países com as menores taxas de obesidade no ano de 2010?"
   ]
  },
  {
   "cell_type": "code",
   "execution_count": 24,
   "id": "559c59b5-4223-44b4-8a46-1c2fe65885bf",
   "metadata": {},
   "outputs": [],
   "source": [
    "filtro_2010 = df_obesity[((df_obesity.Ano == 2010) & (df_obesity.Sexo == 'Male'))] #sexo masculino"
   ]
  },
  {
   "cell_type": "code",
   "execution_count": 25,
   "id": "f528952f-aa9d-4656-ac77-16cba9ec5892",
   "metadata": {},
   "outputs": [
    {
     "data": {
      "text/html": [
       "<div>\n",
       "<style scoped>\n",
       "    .dataframe tbody tr th:only-of-type {\n",
       "        vertical-align: middle;\n",
       "    }\n",
       "\n",
       "    .dataframe tbody tr th {\n",
       "        vertical-align: top;\n",
       "    }\n",
       "\n",
       "    .dataframe thead th {\n",
       "        text-align: right;\n",
       "    }\n",
       "</style>\n",
       "<table border=\"1\" class=\"dataframe\">\n",
       "  <thead>\n",
       "    <tr style=\"text-align: right;\">\n",
       "      <th></th>\n",
       "      <th>País</th>\n",
       "      <th>Ano</th>\n",
       "      <th>Obesidade(%)</th>\n",
       "      <th>Sexo</th>\n",
       "    </tr>\n",
       "  </thead>\n",
       "  <tbody>\n",
       "    <tr>\n",
       "      <th>24172</th>\n",
       "      <td>Viet Nam</td>\n",
       "      <td>2010</td>\n",
       "      <td>0.9</td>\n",
       "      <td>Male</td>\n",
       "    </tr>\n",
       "    <tr>\n",
       "      <th>22912</th>\n",
       "      <td>Uganda</td>\n",
       "      <td>2010</td>\n",
       "      <td>1.3</td>\n",
       "      <td>Male</td>\n",
       "    </tr>\n",
       "    <tr>\n",
       "      <th>7540</th>\n",
       "      <td>Ethiopia</td>\n",
       "      <td>2010</td>\n",
       "      <td>1.3</td>\n",
       "      <td>Male</td>\n",
       "    </tr>\n",
       "    <tr>\n",
       "      <th>18250</th>\n",
       "      <td>Rwanda</td>\n",
       "      <td>2010</td>\n",
       "      <td>1.3</td>\n",
       "      <td>Male</td>\n",
       "    </tr>\n",
       "    <tr>\n",
       "      <th>7162</th>\n",
       "      <td>Eritrea</td>\n",
       "      <td>2010</td>\n",
       "      <td>1.4</td>\n",
       "      <td>Male</td>\n",
       "    </tr>\n",
       "    <tr>\n",
       "      <th>1744</th>\n",
       "      <td>Bangladesh</td>\n",
       "      <td>2010</td>\n",
       "      <td>1.5</td>\n",
       "      <td>Male</td>\n",
       "    </tr>\n",
       "    <tr>\n",
       "      <th>3508</th>\n",
       "      <td>Burundi</td>\n",
       "      <td>2010</td>\n",
       "      <td>1.5</td>\n",
       "      <td>Male</td>\n",
       "    </tr>\n",
       "    <tr>\n",
       "      <th>12958</th>\n",
       "      <td>Malawi</td>\n",
       "      <td>2010</td>\n",
       "      <td>1.6</td>\n",
       "      <td>Male</td>\n",
       "    </tr>\n",
       "    <tr>\n",
       "      <th>15730</th>\n",
       "      <td>Niger</td>\n",
       "      <td>2010</td>\n",
       "      <td>1.7</td>\n",
       "      <td>Male</td>\n",
       "    </tr>\n",
       "    <tr>\n",
       "      <th>21904</th>\n",
       "      <td>Timor-Leste</td>\n",
       "      <td>2010</td>\n",
       "      <td>1.7</td>\n",
       "      <td>Male</td>\n",
       "    </tr>\n",
       "  </tbody>\n",
       "</table>\n",
       "</div>"
      ],
      "text/plain": [
       "              País   Ano  Obesidade(%)  Sexo\n",
       "24172     Viet Nam  2010           0.9  Male\n",
       "22912       Uganda  2010           1.3  Male\n",
       "7540      Ethiopia  2010           1.3  Male\n",
       "18250       Rwanda  2010           1.3  Male\n",
       "7162       Eritrea  2010           1.4  Male\n",
       "1744    Bangladesh  2010           1.5  Male\n",
       "3508       Burundi  2010           1.5  Male\n",
       "12958       Malawi  2010           1.6  Male\n",
       "15730        Niger  2010           1.7  Male\n",
       "21904  Timor-Leste  2010           1.7  Male"
      ]
     },
     "execution_count": 25,
     "metadata": {},
     "output_type": "execute_result"
    }
   ],
   "source": [
    "filtro_2010.sort_values(by = 'Obesidade(%)', ascending = True)[:10] #maiores taxas de obesidade em 2015"
   ]
  },
  {
   "cell_type": "code",
   "execution_count": 26,
   "id": "a3d2255a-89cb-41b1-8b76-3127adaae55d",
   "metadata": {},
   "outputs": [],
   "source": [
    "filtro_2010 = df_obesity[((df_obesity.Ano == 2010) & (df_obesity.Sexo == 'Female'))] "
   ]
  },
  {
   "cell_type": "code",
   "execution_count": 27,
   "id": "9508fa87-03bc-4a64-8bda-93227a6d3831",
   "metadata": {},
   "outputs": [
    {
     "data": {
      "text/html": [
       "<div>\n",
       "<style scoped>\n",
       "    .dataframe tbody tr th:only-of-type {\n",
       "        vertical-align: middle;\n",
       "    }\n",
       "\n",
       "    .dataframe tbody tr th {\n",
       "        vertical-align: top;\n",
       "    }\n",
       "\n",
       "    .dataframe thead th {\n",
       "        text-align: right;\n",
       "    }\n",
       "</style>\n",
       "<table border=\"1\" class=\"dataframe\">\n",
       "  <thead>\n",
       "    <tr style=\"text-align: right;\">\n",
       "      <th></th>\n",
       "      <th>País</th>\n",
       "      <th>Ano</th>\n",
       "      <th>Obesidade(%)</th>\n",
       "      <th>Sexo</th>\n",
       "    </tr>\n",
       "  </thead>\n",
       "  <tbody>\n",
       "    <tr>\n",
       "      <th>24173</th>\n",
       "      <td>Viet Nam</td>\n",
       "      <td>2010</td>\n",
       "      <td>1.7</td>\n",
       "      <td>Female</td>\n",
       "    </tr>\n",
       "    <tr>\n",
       "      <th>10943</th>\n",
       "      <td>Japan</td>\n",
       "      <td>2010</td>\n",
       "      <td>3.1</td>\n",
       "      <td>Female</td>\n",
       "    </tr>\n",
       "    <tr>\n",
       "      <th>3761</th>\n",
       "      <td>Cambodia</td>\n",
       "      <td>2010</td>\n",
       "      <td>3.5</td>\n",
       "      <td>Female</td>\n",
       "    </tr>\n",
       "    <tr>\n",
       "      <th>21905</th>\n",
       "      <td>Timor-Leste</td>\n",
       "      <td>2010</td>\n",
       "      <td>3.5</td>\n",
       "      <td>Female</td>\n",
       "    </tr>\n",
       "    <tr>\n",
       "      <th>1745</th>\n",
       "      <td>Bangladesh</td>\n",
       "      <td>2010</td>\n",
       "      <td>3.6</td>\n",
       "      <td>Female</td>\n",
       "    </tr>\n",
       "    <tr>\n",
       "      <th>9935</th>\n",
       "      <td>India</td>\n",
       "      <td>2010</td>\n",
       "      <td>3.8</td>\n",
       "      <td>Female</td>\n",
       "    </tr>\n",
       "    <tr>\n",
       "      <th>15227</th>\n",
       "      <td>Nepal</td>\n",
       "      <td>2010</td>\n",
       "      <td>3.9</td>\n",
       "      <td>Female</td>\n",
       "    </tr>\n",
       "    <tr>\n",
       "      <th>17621</th>\n",
       "      <td>Republic of Korea</td>\n",
       "      <td>2010</td>\n",
       "      <td>4.2</td>\n",
       "      <td>Female</td>\n",
       "    </tr>\n",
       "    <tr>\n",
       "      <th>11825</th>\n",
       "      <td>Lao People's Democratic Republic</td>\n",
       "      <td>2010</td>\n",
       "      <td>4.7</td>\n",
       "      <td>Female</td>\n",
       "    </tr>\n",
       "    <tr>\n",
       "      <th>4517</th>\n",
       "      <td>China</td>\n",
       "      <td>2010</td>\n",
       "      <td>5.0</td>\n",
       "      <td>Female</td>\n",
       "    </tr>\n",
       "  </tbody>\n",
       "</table>\n",
       "</div>"
      ],
      "text/plain": [
       "                                   País   Ano  Obesidade(%)    Sexo\n",
       "24173                          Viet Nam  2010           1.7  Female\n",
       "10943                             Japan  2010           3.1  Female\n",
       "3761                           Cambodia  2010           3.5  Female\n",
       "21905                       Timor-Leste  2010           3.5  Female\n",
       "1745                         Bangladesh  2010           3.6  Female\n",
       "9935                              India  2010           3.8  Female\n",
       "15227                             Nepal  2010           3.9  Female\n",
       "17621                 Republic of Korea  2010           4.2  Female\n",
       "11825  Lao People's Democratic Republic  2010           4.7  Female\n",
       "4517                              China  2010           5.0  Female"
      ]
     },
     "execution_count": 27,
     "metadata": {},
     "output_type": "execute_result"
    }
   ],
   "source": [
    "filtro_2010.sort_values(by = 'Obesidade(%)', ascending = True)[:10]"
   ]
  },
  {
   "cell_type": "markdown",
   "id": "2b476f67-00e5-4c15-9bb9-88716dad5d9b",
   "metadata": {},
   "source": [
    "4. Qual é a diferença de obesidade entre os sexos ao longo dos anos no Brasil?"
   ]
  },
  {
   "cell_type": "code",
   "execution_count": 28,
   "id": "e3be7a00-1c3c-4efe-a02b-c321f4ca1925",
   "metadata": {},
   "outputs": [],
   "source": [
    "filtro_brazil = df_obesity[((df_obesity.País == 'Brazil') & (df_obesity.Sexo == 'Both sexes'))]"
   ]
  },
  {
   "cell_type": "code",
   "execution_count": 29,
   "id": "9c6c936f-4328-4a38-9b95-679051abcef0",
   "metadata": {},
   "outputs": [],
   "source": [
    "Diferença = filtro_brazil['Obesidade(%)'].diff().abs()"
   ]
  },
  {
   "cell_type": "code",
   "execution_count": 30,
   "id": "fcc51671-c5ca-433d-ac04-7917c25a01a3",
   "metadata": {},
   "outputs": [
    {
     "data": {
      "text/plain": [
       "0.4121951219512195"
      ]
     },
     "execution_count": 30,
     "metadata": {},
     "output_type": "execute_result"
    }
   ],
   "source": [
    "Diferença.mean() #média da diferença de obesidade ao longo dos anos que foram registrados. "
   ]
  },
  {
   "cell_type": "code",
   "execution_count": 31,
   "id": "f5771af9-1f1b-469d-9fe0-c5112b82169e",
   "metadata": {},
   "outputs": [
    {
     "name": "stderr",
     "output_type": "stream",
     "text": [
      "C:\\Users\\Khalil Gibran\\AppData\\Local\\Temp\\ipykernel_14924\\2096373306.py:1: SettingWithCopyWarning: \n",
      "A value is trying to be set on a copy of a slice from a DataFrame.\n",
      "Try using .loc[row_indexer,col_indexer] = value instead\n",
      "\n",
      "See the caveats in the documentation: https://pandas.pydata.org/pandas-docs/stable/user_guide/indexing.html#returning-a-view-versus-a-copy\n",
      "  filtro_brazil.loc[: , 'Diferença(%)'] = Diferença\n"
     ]
    }
   ],
   "source": [
    "filtro_brazil.loc[: , 'Diferença(%)'] = Diferença "
   ]
  },
  {
   "cell_type": "code",
   "execution_count": 32,
   "id": "9f87df0d-19be-4d33-9616-fccf90b66f80",
   "metadata": {},
   "outputs": [
    {
     "data": {
      "text/html": [
       "<div>\n",
       "<style scoped>\n",
       "    .dataframe tbody tr th:only-of-type {\n",
       "        vertical-align: middle;\n",
       "    }\n",
       "\n",
       "    .dataframe tbody tr th {\n",
       "        vertical-align: top;\n",
       "    }\n",
       "\n",
       "    .dataframe thead th {\n",
       "        text-align: right;\n",
       "    }\n",
       "</style>\n",
       "<table border=\"1\" class=\"dataframe\">\n",
       "  <thead>\n",
       "    <tr style=\"text-align: right;\">\n",
       "      <th></th>\n",
       "      <th>País</th>\n",
       "      <th>Ano</th>\n",
       "      <th>Obesidade(%)</th>\n",
       "      <th>Sexo</th>\n",
       "      <th>Diferença(%)</th>\n",
       "    </tr>\n",
       "  </thead>\n",
       "  <tbody>\n",
       "    <tr>\n",
       "      <th>2898</th>\n",
       "      <td>Brazil</td>\n",
       "      <td>1975</td>\n",
       "      <td>5.2</td>\n",
       "      <td>Both sexes</td>\n",
       "      <td>NaN</td>\n",
       "    </tr>\n",
       "    <tr>\n",
       "      <th>2901</th>\n",
       "      <td>Brazil</td>\n",
       "      <td>1976</td>\n",
       "      <td>5.5</td>\n",
       "      <td>Both sexes</td>\n",
       "      <td>0.3</td>\n",
       "    </tr>\n",
       "    <tr>\n",
       "      <th>2904</th>\n",
       "      <td>Brazil</td>\n",
       "      <td>1977</td>\n",
       "      <td>5.7</td>\n",
       "      <td>Both sexes</td>\n",
       "      <td>0.2</td>\n",
       "    </tr>\n",
       "    <tr>\n",
       "      <th>2907</th>\n",
       "      <td>Brazil</td>\n",
       "      <td>1978</td>\n",
       "      <td>6.0</td>\n",
       "      <td>Both sexes</td>\n",
       "      <td>0.3</td>\n",
       "    </tr>\n",
       "    <tr>\n",
       "      <th>2910</th>\n",
       "      <td>Brazil</td>\n",
       "      <td>1979</td>\n",
       "      <td>6.3</td>\n",
       "      <td>Both sexes</td>\n",
       "      <td>0.3</td>\n",
       "    </tr>\n",
       "  </tbody>\n",
       "</table>\n",
       "</div>"
      ],
      "text/plain": [
       "        País   Ano  Obesidade(%)        Sexo  Diferença(%)\n",
       "2898  Brazil  1975           5.2  Both sexes           NaN\n",
       "2901  Brazil  1976           5.5  Both sexes           0.3\n",
       "2904  Brazil  1977           5.7  Both sexes           0.2\n",
       "2907  Brazil  1978           6.0  Both sexes           0.3\n",
       "2910  Brazil  1979           6.3  Both sexes           0.3"
      ]
     },
     "execution_count": 32,
     "metadata": {},
     "output_type": "execute_result"
    }
   ],
   "source": [
    "filtro_brazil.head()"
   ]
  },
  {
   "cell_type": "code",
   "execution_count": null,
   "id": "0198d29c-edf0-4ec2-b03f-302d8f769b7e",
   "metadata": {},
   "outputs": [],
   "source": []
  }
 ],
 "metadata": {
  "kernelspec": {
   "display_name": "Python 3 (ipykernel)",
   "language": "python",
   "name": "python3"
  },
  "language_info": {
   "codemirror_mode": {
    "name": "ipython",
    "version": 3
   },
   "file_extension": ".py",
   "mimetype": "text/x-python",
   "name": "python",
   "nbconvert_exporter": "python",
   "pygments_lexer": "ipython3",
   "version": "3.9.13"
  }
 },
 "nbformat": 4,
 "nbformat_minor": 5
}
