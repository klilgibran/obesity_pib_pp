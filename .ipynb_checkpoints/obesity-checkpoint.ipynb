{
 "cells": [
  {
   "cell_type": "code",
   "execution_count": 1,
   "id": "49d70ab6-36b4-42c4-8632-0ba021c63f6a",
   "metadata": {},
   "outputs": [],
   "source": [
    "import pandas as pd\n",
    "import numpy as np"
   ]
  },
  {
   "cell_type": "code",
   "execution_count": 2,
   "id": "8c42667e-4d95-4bcf-af56-48655064d9a0",
   "metadata": {},
   "outputs": [],
   "source": [
    "df_obesity = pd.read_csv(\"obesity.csv\" , sep=\",\")"
   ]
  },
  {
   "cell_type": "code",
   "execution_count": 3,
   "id": "722a9af2-82e8-4a12-8848-6e0cf4f4be7a",
   "metadata": {},
   "outputs": [
    {
     "data": {
      "text/plain": [
       "Index(['Unnamed: 0', 'Country', 'Year', 'Obesity (%)', 'Sex'], dtype='object')"
      ]
     },
     "execution_count": 3,
     "metadata": {},
     "output_type": "execute_result"
    }
   ],
   "source": [
    "df_obesity.columns "
   ]
  },
  {
   "cell_type": "code",
   "execution_count": 4,
   "id": "aa63aaf0-e66a-402f-9f0e-40e94c9b3c2a",
   "metadata": {},
   "outputs": [],
   "source": [
    "del df_obesity['Unnamed: 0']"
   ]
  },
  {
   "cell_type": "code",
   "execution_count": 5,
   "id": "d1867ba9-3055-456e-8230-db7663d9ed13",
   "metadata": {},
   "outputs": [
    {
     "data": {
      "text/plain": [
       "Index(['Country', 'Year', 'Obesity (%)', 'Sex'], dtype='object')"
      ]
     },
     "execution_count": 5,
     "metadata": {},
     "output_type": "execute_result"
    }
   ],
   "source": [
    "df_obesity.columns"
   ]
  },
  {
   "cell_type": "code",
   "execution_count": 6,
   "id": "c5d66c30-267d-404a-a05d-38d759d4a76a",
   "metadata": {},
   "outputs": [],
   "source": [
    "df_obesity.columns = ['País', 'Ano', 'Obesidade(%)', 'Sexo']"
   ]
  },
  {
   "cell_type": "code",
   "execution_count": 7,
   "id": "ca5b3963-b885-4da5-afcd-0c7acbc90480",
   "metadata": {},
   "outputs": [
    {
     "data": {
      "text/plain": [
       "Index(['País', 'Ano', 'Obesidade(%)', 'Sexo'], dtype='object')"
      ]
     },
     "execution_count": 7,
     "metadata": {},
     "output_type": "execute_result"
    }
   ],
   "source": [
    "df_obesity.columns\n"
   ]
  },
  {
   "cell_type": "code",
   "execution_count": 8,
   "id": "cc56d576-4e33-4d69-ae72-c3b0b9c465d2",
   "metadata": {},
   "outputs": [
    {
     "data": {
      "text/plain": [
       "Ano    0\n",
       "dtype: int64"
      ]
     },
     "execution_count": 8,
     "metadata": {},
     "output_type": "execute_result"
    }
   ],
   "source": [
    "df_obesity.select_dtypes(include = 'int').isnull().sum()"
   ]
  },
  {
   "cell_type": "code",
   "execution_count": 9,
   "id": "5177d7fa-a522-4a96-8121-502274b36e1b",
   "metadata": {},
   "outputs": [
    {
     "data": {
      "text/html": [
       "<div>\n",
       "<style scoped>\n",
       "    .dataframe tbody tr th:only-of-type {\n",
       "        vertical-align: middle;\n",
       "    }\n",
       "\n",
       "    .dataframe tbody tr th {\n",
       "        vertical-align: top;\n",
       "    }\n",
       "\n",
       "    .dataframe thead th {\n",
       "        text-align: right;\n",
       "    }\n",
       "</style>\n",
       "<table border=\"1\" class=\"dataframe\">\n",
       "  <thead>\n",
       "    <tr style=\"text-align: right;\">\n",
       "      <th></th>\n",
       "      <th>País</th>\n",
       "      <th>Ano</th>\n",
       "      <th>Obesidade(%)</th>\n",
       "      <th>Sexo</th>\n",
       "    </tr>\n",
       "  </thead>\n",
       "  <tbody>\n",
       "    <tr>\n",
       "      <th>0</th>\n",
       "      <td>Afghanistan</td>\n",
       "      <td>1975</td>\n",
       "      <td>0.5 [0.2-1.1]</td>\n",
       "      <td>Both sexes</td>\n",
       "    </tr>\n",
       "    <tr>\n",
       "      <th>1</th>\n",
       "      <td>Afghanistan</td>\n",
       "      <td>1975</td>\n",
       "      <td>0.2 [0.0-0.6]</td>\n",
       "      <td>Male</td>\n",
       "    </tr>\n",
       "    <tr>\n",
       "      <th>2</th>\n",
       "      <td>Afghanistan</td>\n",
       "      <td>1975</td>\n",
       "      <td>0.8 [0.2-2.0]</td>\n",
       "      <td>Female</td>\n",
       "    </tr>\n",
       "    <tr>\n",
       "      <th>3</th>\n",
       "      <td>Afghanistan</td>\n",
       "      <td>1976</td>\n",
       "      <td>0.5 [0.2-1.1]</td>\n",
       "      <td>Both sexes</td>\n",
       "    </tr>\n",
       "    <tr>\n",
       "      <th>4</th>\n",
       "      <td>Afghanistan</td>\n",
       "      <td>1976</td>\n",
       "      <td>0.2 [0.0-0.7]</td>\n",
       "      <td>Male</td>\n",
       "    </tr>\n",
       "  </tbody>\n",
       "</table>\n",
       "</div>"
      ],
      "text/plain": [
       "          País   Ano   Obesidade(%)        Sexo\n",
       "0  Afghanistan  1975  0.5 [0.2-1.1]  Both sexes\n",
       "1  Afghanistan  1975  0.2 [0.0-0.6]        Male\n",
       "2  Afghanistan  1975  0.8 [0.2-2.0]      Female\n",
       "3  Afghanistan  1976  0.5 [0.2-1.1]  Both sexes\n",
       "4  Afghanistan  1976  0.2 [0.0-0.7]        Male"
      ]
     },
     "execution_count": 9,
     "metadata": {},
     "output_type": "execute_result"
    }
   ],
   "source": [
    "df_obesity.head()"
   ]
  },
  {
   "cell_type": "code",
   "execution_count": 10,
   "id": "d1d1884d-41b5-47fe-9a6e-265d9b48d294",
   "metadata": {},
   "outputs": [
    {
     "data": {
      "text/plain": [
       "0           0.5 [0.2-1.1]\n",
       "1           0.2 [0.0-0.6]\n",
       "2           0.8 [0.2-2.0]\n",
       "3           0.5 [0.2-1.1]\n",
       "4           0.2 [0.0-0.7]\n",
       "               ...       \n",
       "24565       4.5 [2.4-7.6]\n",
       "24566    24.8 [18.9-31.3]\n",
       "24567    15.5 [12.0-19.2]\n",
       "24568       4.7 [2.5-8.0]\n",
       "24569    25.3 [19.1-32.0]\n",
       "Name: Obesidade(%), Length: 24570, dtype: object"
      ]
     },
     "execution_count": 10,
     "metadata": {},
     "output_type": "execute_result"
    }
   ],
   "source": [
    "df_obesity['Obesidade(%)']"
   ]
  },
  {
   "cell_type": "code",
   "execution_count": 11,
   "id": "2d3b00d1-8456-47e0-af5f-1e63cdc12d48",
   "metadata": {},
   "outputs": [],
   "source": [
    "df_obesity['Obesidade(%)'] = df_obesity['Obesidade(%)'].apply( lambda x: x.split()[0])"
   ]
  },
  {
   "cell_type": "code",
   "execution_count": 12,
   "id": "d1c787eb-324f-4522-b16a-c73705a01b59",
   "metadata": {},
   "outputs": [
    {
     "data": {
      "text/html": [
       "<div>\n",
       "<style scoped>\n",
       "    .dataframe tbody tr th:only-of-type {\n",
       "        vertical-align: middle;\n",
       "    }\n",
       "\n",
       "    .dataframe tbody tr th {\n",
       "        vertical-align: top;\n",
       "    }\n",
       "\n",
       "    .dataframe thead th {\n",
       "        text-align: right;\n",
       "    }\n",
       "</style>\n",
       "<table border=\"1\" class=\"dataframe\">\n",
       "  <thead>\n",
       "    <tr style=\"text-align: right;\">\n",
       "      <th></th>\n",
       "      <th>País</th>\n",
       "      <th>Ano</th>\n",
       "      <th>Obesidade(%)</th>\n",
       "      <th>Sexo</th>\n",
       "    </tr>\n",
       "  </thead>\n",
       "  <tbody>\n",
       "    <tr>\n",
       "      <th>0</th>\n",
       "      <td>Afghanistan</td>\n",
       "      <td>1975</td>\n",
       "      <td>0.5</td>\n",
       "      <td>Both sexes</td>\n",
       "    </tr>\n",
       "    <tr>\n",
       "      <th>1</th>\n",
       "      <td>Afghanistan</td>\n",
       "      <td>1975</td>\n",
       "      <td>0.2</td>\n",
       "      <td>Male</td>\n",
       "    </tr>\n",
       "    <tr>\n",
       "      <th>2</th>\n",
       "      <td>Afghanistan</td>\n",
       "      <td>1975</td>\n",
       "      <td>0.8</td>\n",
       "      <td>Female</td>\n",
       "    </tr>\n",
       "    <tr>\n",
       "      <th>3</th>\n",
       "      <td>Afghanistan</td>\n",
       "      <td>1976</td>\n",
       "      <td>0.5</td>\n",
       "      <td>Both sexes</td>\n",
       "    </tr>\n",
       "    <tr>\n",
       "      <th>4</th>\n",
       "      <td>Afghanistan</td>\n",
       "      <td>1976</td>\n",
       "      <td>0.2</td>\n",
       "      <td>Male</td>\n",
       "    </tr>\n",
       "  </tbody>\n",
       "</table>\n",
       "</div>"
      ],
      "text/plain": [
       "          País   Ano Obesidade(%)        Sexo\n",
       "0  Afghanistan  1975          0.5  Both sexes\n",
       "1  Afghanistan  1975          0.2        Male\n",
       "2  Afghanistan  1975          0.8      Female\n",
       "3  Afghanistan  1976          0.5  Both sexes\n",
       "4  Afghanistan  1976          0.2        Male"
      ]
     },
     "execution_count": 12,
     "metadata": {},
     "output_type": "execute_result"
    }
   ],
   "source": [
    "df_obesity.head()"
   ]
  },
  {
   "cell_type": "code",
   "execution_count": 13,
   "id": "aad24343-2eca-4026-ba13-b832af7553dc",
   "metadata": {},
   "outputs": [
    {
     "name": "stdout",
     "output_type": "stream",
     "text": [
      "<class 'pandas.core.frame.DataFrame'>\n",
      "RangeIndex: 24570 entries, 0 to 24569\n",
      "Data columns (total 4 columns):\n",
      " #   Column        Non-Null Count  Dtype \n",
      "---  ------        --------------  ----- \n",
      " 0   País          24570 non-null  object\n",
      " 1   Ano           24570 non-null  int64 \n",
      " 2   Obesidade(%)  24570 non-null  object\n",
      " 3   Sexo          24570 non-null  object\n",
      "dtypes: int64(1), object(3)\n",
      "memory usage: 767.9+ KB\n"
     ]
    }
   ],
   "source": [
    "df_obesity.info()"
   ]
  },
  {
   "cell_type": "code",
   "execution_count": 14,
   "id": "9f646f7d-0c1c-42b0-9b73-272fad885c91",
   "metadata": {},
   "outputs": [
    {
     "ename": "ValueError",
     "evalue": "Unable to parse string \"No\" at position 14112",
     "output_type": "error",
     "traceback": [
      "\u001b[1;31m---------------------------------------------------------------------------\u001b[0m",
      "\u001b[1;31mValueError\u001b[0m                                Traceback (most recent call last)",
      "\u001b[1;32m~\\anaconda3\\lib\\site-packages\\pandas\\_libs\\lib.pyx\u001b[0m in \u001b[0;36mpandas._libs.lib.maybe_convert_numeric\u001b[1;34m()\u001b[0m\n",
      "\u001b[1;31mValueError\u001b[0m: Unable to parse string \"No\"",
      "\nDuring handling of the above exception, another exception occurred:\n",
      "\u001b[1;31mValueError\u001b[0m                                Traceback (most recent call last)",
      "\u001b[1;32m~\\AppData\\Local\\Temp\\ipykernel_22584\\1298787525.py\u001b[0m in \u001b[0;36m<module>\u001b[1;34m\u001b[0m\n\u001b[1;32m----> 1\u001b[1;33m \u001b[0mdf_obesity\u001b[0m\u001b[1;33m[\u001b[0m\u001b[1;34m'Obesidade(%)'\u001b[0m\u001b[1;33m]\u001b[0m \u001b[1;33m=\u001b[0m \u001b[0mpd\u001b[0m\u001b[1;33m.\u001b[0m\u001b[0mto_numeric\u001b[0m\u001b[1;33m(\u001b[0m\u001b[0mdf_obesity\u001b[0m\u001b[1;33m[\u001b[0m\u001b[1;34m'Obesidade(%)'\u001b[0m\u001b[1;33m]\u001b[0m\u001b[1;33m)\u001b[0m\u001b[1;33m\u001b[0m\u001b[1;33m\u001b[0m\u001b[0m\n\u001b[0m",
      "\u001b[1;32m~\\anaconda3\\lib\\site-packages\\pandas\\core\\tools\\numeric.py\u001b[0m in \u001b[0;36mto_numeric\u001b[1;34m(arg, errors, downcast)\u001b[0m\n\u001b[0;32m    182\u001b[0m         \u001b[0mcoerce_numeric\u001b[0m \u001b[1;33m=\u001b[0m \u001b[0merrors\u001b[0m \u001b[1;32mnot\u001b[0m \u001b[1;32min\u001b[0m \u001b[1;33m(\u001b[0m\u001b[1;34m\"ignore\"\u001b[0m\u001b[1;33m,\u001b[0m \u001b[1;34m\"raise\"\u001b[0m\u001b[1;33m)\u001b[0m\u001b[1;33m\u001b[0m\u001b[1;33m\u001b[0m\u001b[0m\n\u001b[0;32m    183\u001b[0m         \u001b[1;32mtry\u001b[0m\u001b[1;33m:\u001b[0m\u001b[1;33m\u001b[0m\u001b[1;33m\u001b[0m\u001b[0m\n\u001b[1;32m--> 184\u001b[1;33m             values, _ = lib.maybe_convert_numeric(\n\u001b[0m\u001b[0;32m    185\u001b[0m                 \u001b[0mvalues\u001b[0m\u001b[1;33m,\u001b[0m \u001b[0mset\u001b[0m\u001b[1;33m(\u001b[0m\u001b[1;33m)\u001b[0m\u001b[1;33m,\u001b[0m \u001b[0mcoerce_numeric\u001b[0m\u001b[1;33m=\u001b[0m\u001b[0mcoerce_numeric\u001b[0m\u001b[1;33m\u001b[0m\u001b[1;33m\u001b[0m\u001b[0m\n\u001b[0;32m    186\u001b[0m             )\n",
      "\u001b[1;32m~\\anaconda3\\lib\\site-packages\\pandas\\_libs\\lib.pyx\u001b[0m in \u001b[0;36mpandas._libs.lib.maybe_convert_numeric\u001b[1;34m()\u001b[0m\n",
      "\u001b[1;31mValueError\u001b[0m: Unable to parse string \"No\" at position 14112"
     ]
    }
   ],
   "source": [
    "df_obesity['Obesidade(%)'] = pd.to_numeric(df_obesity['Obesidade(%)'])"
   ]
  },
  {
   "cell_type": "code",
   "execution_count": null,
   "id": "207d11ba-96e3-4316-815f-86e5ff713132",
   "metadata": {},
   "outputs": [],
   "source": [
    "#filtro =df_obesity['Obesidade(%)'].str.contains(\"No\")\n",
    "#df_obesity[filtro]"
   ]
  },
  {
   "cell_type": "code",
   "execution_count": 15,
   "id": "4baa3825-73f5-4376-b6e8-8cd2427765d4",
   "metadata": {},
   "outputs": [],
   "source": [
    "df_obesity['Obesidade(%)'] = df_obesity['Obesidade(%)'].replace(\"No\", np.nan)"
   ]
  },
  {
   "cell_type": "code",
   "execution_count": 22,
   "id": "f4ce625e-a759-4555-bbb8-ef9e026cf14e",
   "metadata": {},
   "outputs": [],
   "source": [
    "df_obesity['Obesidade(%)'] = pd.to_numeric(df_obesity['Obesidade(%)'])"
   ]
  },
  {
   "cell_type": "code",
   "execution_count": 25,
   "id": "811a7a6e-e372-47bd-bf61-dd8ef6740c1f",
   "metadata": {},
   "outputs": [
    {
     "data": {
      "text/plain": [
       "504"
      ]
     },
     "execution_count": 25,
     "metadata": {},
     "output_type": "execute_result"
    }
   ],
   "source": [
    "df_obesity['Obesidade(%)'].isnull().sum()"
   ]
  },
  {
   "cell_type": "markdown",
   "id": "9f611787-15f9-4a7f-a576-1c96cad7ba19",
   "metadata": {},
   "source": [
    "- Questões: "
   ]
  },
  {
   "cell_type": "code",
   "execution_count": null,
   "id": "8d53346d-17c8-4931-918c-60988a400f30",
   "metadata": {},
   "outputs": [],
   "source": [
    "1."
   ]
  },
  {
   "cell_type": "code",
   "execution_count": 74,
   "id": "b4965e3b-da50-4964-b050-360ba1caa7b1",
   "metadata": {},
   "outputs": [
    {
     "data": {
      "text/html": [
       "<div>\n",
       "<style scoped>\n",
       "    .dataframe tbody tr th:only-of-type {\n",
       "        vertical-align: middle;\n",
       "    }\n",
       "\n",
       "    .dataframe tbody tr th {\n",
       "        vertical-align: top;\n",
       "    }\n",
       "\n",
       "    .dataframe thead th {\n",
       "        text-align: right;\n",
       "    }\n",
       "</style>\n",
       "<table border=\"1\" class=\"dataframe\">\n",
       "  <thead>\n",
       "    <tr style=\"text-align: right;\">\n",
       "      <th></th>\n",
       "      <th>Obesidade(%)</th>\n",
       "    </tr>\n",
       "    <tr>\n",
       "      <th>País</th>\n",
       "      <th></th>\n",
       "    </tr>\n",
       "  </thead>\n",
       "  <tbody>\n",
       "    <tr>\n",
       "      <th>Nauru</th>\n",
       "      <td>53.042857</td>\n",
       "    </tr>\n",
       "    <tr>\n",
       "      <th>Palau</th>\n",
       "      <td>42.080952</td>\n",
       "    </tr>\n",
       "    <tr>\n",
       "      <th>Cook Islands</th>\n",
       "      <td>41.816667</td>\n",
       "    </tr>\n",
       "    <tr>\n",
       "      <th>Marshall Islands</th>\n",
       "      <td>40.454762</td>\n",
       "    </tr>\n",
       "    <tr>\n",
       "      <th>Tuvalu</th>\n",
       "      <td>35.080952</td>\n",
       "    </tr>\n",
       "  </tbody>\n",
       "</table>\n",
       "</div>"
      ],
      "text/plain": [
       "                  Obesidade(%)\n",
       "País                          \n",
       "Nauru                53.042857\n",
       "Palau                42.080952\n",
       "Cook Islands         41.816667\n",
       "Marshall Islands     40.454762\n",
       "Tuvalu               35.080952"
      ]
     },
     "execution_count": 74,
     "metadata": {},
     "output_type": "execute_result"
    }
   ],
   "source": [
    "df_obesity[df_obesity.Sexo =='Both sexes'].groupby(['País'])[['Obesidade(%)']].mean().sort_values(by='Obesidade(%)', ascending = False)[:5] "
   ]
  },
  {
   "cell_type": "code",
   "execution_count": 75,
   "id": "9d36bc79-7a00-4cd0-a7a8-c5f1297aac7f",
   "metadata": {},
   "outputs": [
    {
     "data": {
      "text/html": [
       "<div>\n",
       "<style scoped>\n",
       "    .dataframe tbody tr th:only-of-type {\n",
       "        vertical-align: middle;\n",
       "    }\n",
       "\n",
       "    .dataframe tbody tr th {\n",
       "        vertical-align: top;\n",
       "    }\n",
       "\n",
       "    .dataframe thead th {\n",
       "        text-align: right;\n",
       "    }\n",
       "</style>\n",
       "<table border=\"1\" class=\"dataframe\">\n",
       "  <thead>\n",
       "    <tr style=\"text-align: right;\">\n",
       "      <th></th>\n",
       "      <th>Obesidade(%)</th>\n",
       "    </tr>\n",
       "    <tr>\n",
       "      <th>País</th>\n",
       "      <th></th>\n",
       "    </tr>\n",
       "  </thead>\n",
       "  <tbody>\n",
       "    <tr>\n",
       "      <th>Viet Nam</th>\n",
       "      <td>0.690476</td>\n",
       "    </tr>\n",
       "    <tr>\n",
       "      <th>Bangladesh</th>\n",
       "      <td>1.290476</td>\n",
       "    </tr>\n",
       "    <tr>\n",
       "      <th>Timor-Leste</th>\n",
       "      <td>1.347619</td>\n",
       "    </tr>\n",
       "    <tr>\n",
       "      <th>Cambodia</th>\n",
       "      <td>1.433333</td>\n",
       "    </tr>\n",
       "    <tr>\n",
       "      <th>Nepal</th>\n",
       "      <td>1.526190</td>\n",
       "    </tr>\n",
       "  </tbody>\n",
       "</table>\n",
       "</div>"
      ],
      "text/plain": [
       "             Obesidade(%)\n",
       "País                     \n",
       "Viet Nam         0.690476\n",
       "Bangladesh       1.290476\n",
       "Timor-Leste      1.347619\n",
       "Cambodia         1.433333\n",
       "Nepal            1.526190"
      ]
     },
     "execution_count": 75,
     "metadata": {},
     "output_type": "execute_result"
    }
   ],
   "source": [
    "df_obesity[df_obesity.Sexo =='Both sexes'].groupby(['País'])[['Obesidade(%)']].mean().sort_values(by='Obesidade(%)', ascending = True)[:5] "
   ]
  },
  {
   "cell_type": "markdown",
   "id": "2a7e6437-eb10-4a10-8db1-68cac4b01e3f",
   "metadata": {},
   "source": [
    "2.\n"
   ]
  },
  {
   "cell_type": "code",
   "execution_count": 102,
   "id": "559c59b5-4223-44b4-8a46-1c2fe65885bf",
   "metadata": {},
   "outputs": [
    {
     "ename": "SyntaxError",
     "evalue": "invalid syntax (890696570.py, line 1)",
     "output_type": "error",
     "traceback": [
      "\u001b[1;36m  File \u001b[1;32m\"C:\\Users\\Khalil Gibran\\AppData\\Local\\Temp\\ipykernel_22584\\890696570.py\"\u001b[1;36m, line \u001b[1;32m1\u001b[0m\n\u001b[1;33m    filtro_2015 = df_obesity[(df_obesity.Ano == 2015) & (df_obesity.Sexo != Both sexes)]\u001b[0m\n\u001b[1;37m                                                                                 ^\u001b[0m\n\u001b[1;31mSyntaxError\u001b[0m\u001b[1;31m:\u001b[0m invalid syntax\n"
     ]
    }
   ],
   "source": [
    "filtro_2015 = df_obesity[(df_obesity.Ano == 2015) & (df_obesity.Sexo != Both sexes)]"
   ]
  },
  {
   "cell_type": "code",
   "execution_count": 100,
   "id": "f528952f-aa9d-4656-ac77-16cba9ec5892",
   "metadata": {},
   "outputs": [
    {
     "data": {
      "text/html": [
       "<div>\n",
       "<style scoped>\n",
       "    .dataframe tbody tr th:only-of-type {\n",
       "        vertical-align: middle;\n",
       "    }\n",
       "\n",
       "    .dataframe tbody tr th {\n",
       "        vertical-align: top;\n",
       "    }\n",
       "\n",
       "    .dataframe thead th {\n",
       "        text-align: right;\n",
       "    }\n",
       "</style>\n",
       "<table border=\"1\" class=\"dataframe\">\n",
       "  <thead>\n",
       "    <tr style=\"text-align: right;\">\n",
       "      <th></th>\n",
       "      <th>País</th>\n",
       "      <th>Ano</th>\n",
       "      <th>Obesidade(%)</th>\n",
       "      <th>Sexo</th>\n",
       "    </tr>\n",
       "  </thead>\n",
       "  <tbody>\n",
       "    <tr>\n",
       "      <th>15116</th>\n",
       "      <td>Nauru</td>\n",
       "      <td>2015</td>\n",
       "      <td>63.1</td>\n",
       "      <td>Female</td>\n",
       "    </tr>\n",
       "    <tr>\n",
       "      <th>15114</th>\n",
       "      <td>Nauru</td>\n",
       "      <td>2015</td>\n",
       "      <td>60.7</td>\n",
       "      <td>Both sexes</td>\n",
       "    </tr>\n",
       "    <tr>\n",
       "      <th>5036</th>\n",
       "      <td>Cook Islands</td>\n",
       "      <td>2015</td>\n",
       "      <td>58.8</td>\n",
       "      <td>Female</td>\n",
       "    </tr>\n",
       "    <tr>\n",
       "      <th>16502</th>\n",
       "      <td>Palau</td>\n",
       "      <td>2015</td>\n",
       "      <td>58.4</td>\n",
       "      <td>Female</td>\n",
       "    </tr>\n",
       "    <tr>\n",
       "      <th>15115</th>\n",
       "      <td>Nauru</td>\n",
       "      <td>2015</td>\n",
       "      <td>58.2</td>\n",
       "      <td>Male</td>\n",
       "    </tr>\n",
       "    <tr>\n",
       "      <th>13604</th>\n",
       "      <td>Marshall Islands</td>\n",
       "      <td>2015</td>\n",
       "      <td>56.9</td>\n",
       "      <td>Female</td>\n",
       "    </tr>\n",
       "    <tr>\n",
       "      <th>22802</th>\n",
       "      <td>Tuvalu</td>\n",
       "      <td>2015</td>\n",
       "      <td>55.6</td>\n",
       "      <td>Female</td>\n",
       "    </tr>\n",
       "    <tr>\n",
       "      <th>5034</th>\n",
       "      <td>Cook Islands</td>\n",
       "      <td>2015</td>\n",
       "      <td>55.4</td>\n",
       "      <td>Both sexes</td>\n",
       "    </tr>\n",
       "    <tr>\n",
       "      <th>16500</th>\n",
       "      <td>Palau</td>\n",
       "      <td>2015</td>\n",
       "      <td>54.8</td>\n",
       "      <td>Both sexes</td>\n",
       "    </tr>\n",
       "    <tr>\n",
       "      <th>18770</th>\n",
       "      <td>Samoa</td>\n",
       "      <td>2015</td>\n",
       "      <td>54.5</td>\n",
       "      <td>Female</td>\n",
       "    </tr>\n",
       "    <tr>\n",
       "      <th>15998</th>\n",
       "      <td>Niue</td>\n",
       "      <td>2015</td>\n",
       "      <td>54.5</td>\n",
       "      <td>Female</td>\n",
       "    </tr>\n",
       "    <tr>\n",
       "      <th>22172</th>\n",
       "      <td>Tonga</td>\n",
       "      <td>2015</td>\n",
       "      <td>53.9</td>\n",
       "      <td>Female</td>\n",
       "    </tr>\n",
       "    <tr>\n",
       "      <th>13602</th>\n",
       "      <td>Marshall Islands</td>\n",
       "      <td>2015</td>\n",
       "      <td>52.4</td>\n",
       "      <td>Both sexes</td>\n",
       "    </tr>\n",
       "    <tr>\n",
       "      <th>5035</th>\n",
       "      <td>Cook Islands</td>\n",
       "      <td>2015</td>\n",
       "      <td>52.0</td>\n",
       "      <td>Male</td>\n",
       "    </tr>\n",
       "    <tr>\n",
       "      <th>16501</th>\n",
       "      <td>Palau</td>\n",
       "      <td>2015</td>\n",
       "      <td>51.1</td>\n",
       "      <td>Male</td>\n",
       "    </tr>\n",
       "  </tbody>\n",
       "</table>\n",
       "</div>"
      ],
      "text/plain": [
       "                   País   Ano  Obesidade(%)        Sexo\n",
       "15116             Nauru  2015          63.1      Female\n",
       "15114             Nauru  2015          60.7  Both sexes\n",
       "5036       Cook Islands  2015          58.8      Female\n",
       "16502             Palau  2015          58.4      Female\n",
       "15115             Nauru  2015          58.2        Male\n",
       "13604  Marshall Islands  2015          56.9      Female\n",
       "22802            Tuvalu  2015          55.6      Female\n",
       "5034       Cook Islands  2015          55.4  Both sexes\n",
       "16500             Palau  2015          54.8  Both sexes\n",
       "18770             Samoa  2015          54.5      Female\n",
       "15998              Niue  2015          54.5      Female\n",
       "22172             Tonga  2015          53.9      Female\n",
       "13602  Marshall Islands  2015          52.4  Both sexes\n",
       "5035       Cook Islands  2015          52.0        Male\n",
       "16501             Palau  2015          51.1        Male"
      ]
     },
     "execution_count": 100,
     "metadata": {},
     "output_type": "execute_result"
    }
   ],
   "source": [
    "filtro_2015 #.sort_values(by = 'Obesidade(%)', ascending = False)[:15]"
   ]
  },
  {
   "cell_type": "code",
   "execution_count": null,
   "id": "a3d2255a-89cb-41b1-8b76-3127adaae55d",
   "metadata": {},
   "outputs": [],
   "source": []
  }
 ],
 "metadata": {
  "kernelspec": {
   "display_name": "Python 3 (ipykernel)",
   "language": "python",
   "name": "python3"
  },
  "language_info": {
   "codemirror_mode": {
    "name": "ipython",
    "version": 3
   },
   "file_extension": ".py",
   "mimetype": "text/x-python",
   "name": "python",
   "nbconvert_exporter": "python",
   "pygments_lexer": "ipython3",
   "version": "3.9.13"
  }
 },
 "nbformat": 4,
 "nbformat_minor": 5
}
